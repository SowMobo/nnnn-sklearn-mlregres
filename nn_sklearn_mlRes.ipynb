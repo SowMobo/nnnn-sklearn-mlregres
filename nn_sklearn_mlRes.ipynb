{
 "cells": [
  {
   "cell_type": "code",
   "execution_count": null,
   "metadata": {},
   "outputs": [],
   "source": []
  }
 ],
 "metadata": {
  "interpreter": {
   "hash": "a3c88319cfa38d3ac04be9d06dd99a1dbeead0c79bd13fb3659e46bfaf40c9c8"
  },
  "kernelspec": {
   "display_name": "Python 3.9.7 64-bit ('nnRes': conda)",
   "language": "python",
   "name": "python3"
  },
  "language_info": {
   "name": "python",
   "version": "3.9.7"
  },
  "orig_nbformat": 4
 },
 "nbformat": 4,
 "nbformat_minor": 2
}
