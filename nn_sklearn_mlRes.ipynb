{
 "cells": [
  {
   "cell_type": "markdown",
   "metadata": {},
   "source": [
    "# Dependencies "
   ]
  },
  {
   "cell_type": "code",
   "execution_count": 1,
   "metadata": {},
   "outputs": [],
   "source": [
    "from sklearn.neural_network import MLPRegressor\n",
    "import numpy as np"
   ]
  },
  {
   "cell_type": "markdown",
   "metadata": {},
   "source": [
    "# Questionaire data (WEEK, YEARS, BOOKS, PROJECTS, EARN, RATING)"
   ]
  },
  {
   "cell_type": "code",
   "execution_count": 2,
   "metadata": {},
   "outputs": [],
   "source": [
    "Q = [[20,  11,  20,  30,  4000,  3000],\n",
    "     [12,   4,   0,   0, 1000,  1500],\n",
    "     [2,   0,   1,  10,   0,  1400],\n",
    "     [35,   5,  10,  70,  6000,  3800],\n",
    "     [30,   1,   4,  65,   0,  3900],\n",
    "     [35,   1,   0,   0,   0, 100],\n",
    "     [15,   1,   2,  25,   0,  3700],\n",
    "     [40,   3,  -1,  60,  1000,  2000],\n",
    "     [40,   1,   2,  95,   0,  1000],\n",
    "     [10,   0,   0,   0,   0,  1400],\n",
    "     [30,   1,   0,  50,   0,  1700],\n",
    "     [1,   0,   0,  45,   0,  1762],\n",
    "     [10,  32,  10,   5,   0,  2400],\n",
    "     [5,  35,   4,   0, 13000,  3900],\n",
    "     [8,   9,  40,  30,  1000,  2625],\n",
    "     [1,   0,   1,   0,   0,  1900],\n",
    "     [1,  30,  10,   0,  1000,  1900],\n",
    "     [7,  16,   5,   0,   0,  3000]]"
   ]
  },
  {
   "cell_type": "code",
   "execution_count": 9,
   "metadata": {},
   "outputs": [],
   "source": [
    "X = np.array(Q)"
   ]
  },
  {
   "cell_type": "markdown",
   "metadata": {},
   "source": [
    "# Initializing Neural Network MLRegressor with appropriate parameters"
   ]
  },
  {
   "cell_type": "code",
   "execution_count": 18,
   "metadata": {},
   "outputs": [
    {
     "name": "stderr",
     "output_type": "stream",
     "text": [
      "/opt/miniconda3/envs/nnRes/lib/python3.9/site-packages/sklearn/neural_network/_multilayer_perceptron.py:692: ConvergenceWarning: Stochastic Optimizer: Maximum iterations (2000) reached and the optimization hasn't converged yet.\n",
      "  warnings.warn(\n"
     ]
    }
   ],
   "source": [
    "# One-liner\n",
    "neural_net = MLPRegressor(max_iter=2000).fit(X[:,:-1], X[:,-1])"
   ]
  },
  {
   "cell_type": "code",
   "execution_count": 20,
   "metadata": {},
   "outputs": [
    {
     "name": "stdout",
     "output_type": "stream",
     "text": [
      "[92.03876782]\n"
     ]
    }
   ],
   "source": [
    "# Result - test1\n",
    "res = neural_net.predict([[0, 0, 0, 0, 0]])\n",
    "print(res)"
   ]
  },
  {
   "cell_type": "code",
   "execution_count": 21,
   "metadata": {},
   "outputs": [
    {
     "name": "stdout",
     "output_type": "stream",
     "text": [
      "[521.11790459]\n"
     ]
    }
   ],
   "source": [
    "# Result -test2\n",
    "res = neural_net.predict([[20, 0, 0, 0, 0]])\n",
    "print(res)"
   ]
  },
  {
   "cell_type": "code",
   "execution_count": 22,
   "metadata": {},
   "outputs": [
    {
     "name": "stdout",
     "output_type": "stream",
     "text": [
      "[964.08378105]\n"
     ]
    }
   ],
   "source": [
    "# Result -test3\n",
    "res = neural_net.predict([[20, 0, 10, 0, 0]])\n",
    "print(res)"
   ]
  },
  {
   "cell_type": "code",
   "execution_count": 23,
   "metadata": {},
   "outputs": [
    {
     "name": "stdout",
     "output_type": "stream",
     "text": [
      "[1025.15951156]\n"
     ]
    }
   ],
   "source": [
    "# Result -test4\n",
    "res = neural_net.predict([[20, 1, 10, 0, 0]])\n",
    "print(res)"
   ]
  },
  {
   "cell_type": "code",
   "execution_count": 24,
   "metadata": {},
   "outputs": [
    {
     "name": "stdout",
     "output_type": "stream",
     "text": [
      "[2074.18688384]\n"
     ]
    }
   ],
   "source": [
    "# Result -test5\n",
    "res = neural_net.predict([[20, 1, 10, 50, 1000]])\n",
    "print(res)"
   ]
  }
 ],
 "metadata": {
  "interpreter": {
   "hash": "a3c88319cfa38d3ac04be9d06dd99a1dbeead0c79bd13fb3659e46bfaf40c9c8"
  },
  "kernelspec": {
   "display_name": "Python 3.9.7 64-bit ('nnRes': conda)",
   "language": "python",
   "name": "python3"
  },
  "language_info": {
   "codemirror_mode": {
    "name": "ipython",
    "version": 3
   },
   "file_extension": ".py",
   "mimetype": "text/x-python",
   "name": "python",
   "nbconvert_exporter": "python",
   "pygments_lexer": "ipython3",
   "version": "3.9.7"
  },
  "orig_nbformat": 4
 },
 "nbformat": 4,
 "nbformat_minor": 2
}
